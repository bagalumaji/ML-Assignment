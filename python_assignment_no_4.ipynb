{
 "cells": [
  {
   "cell_type": "markdown",
   "metadata": {},
   "source": [
    "# python_assignment_no_4: "
   ]
  },
  {
   "cell_type": "markdown",
   "metadata": {},
   "source": [
    "1.1  \n",
    " \n",
    "Write a Python Program(with class concepts) to find the area of the triangle using the below formula. \n",
    " \n",
    "area = (s*(s-a)*(s-b)*(s-c)) ** 0.5 \n",
    "\n",
    "Function to take the length of the sides of triangle from user should be defined in the parent class and function\n",
    "to calculate the area should be defined in subclass. "
   ]
  },
  {
   "cell_type": "code",
   "execution_count": null,
   "metadata": {},
   "outputs": [],
   "source": [
    "#class def of circle parent\n",
    "\n",
    "class CircleParent:\n",
    "    def inputSide(self):\n",
    "        self.a = float(input('Enter first side of triangle'))\n",
    "        self.b = float(input('Enter second side of triangle'))\n",
    "        self.c = float(input('Enter third side of triangle'))\n",
    "        \n",
    "    def displaySide(self):\n",
    "        print(\"First Side of Triangle : \",self.a)\n",
    "        print(\"Second Side of Triangle : \",self.b)\n",
    "        print(\"Third Side of Triangle : \",self.c)\n",
    "\n",
    "\n",
    "# class def of circle area\n",
    "\n",
    "class CircleArea(CircleParent):\n",
    "        def calculateArea(self):\n",
    "            s= (self.a + self.b + self.c)/2\n",
    "            self.area = (s*(s-self.a)*(s-self.b)*(s-self.c)) ** 0.5 \n",
    "        \n",
    "        def displayArea(self):\n",
    "            print(\"Area of circle : \",self.area)\n",
    "\n",
    "#creation of derived class object\n",
    "          \n",
    "a = CircleArea()\n",
    "\n",
    "# calling the functions\n",
    "\n",
    "a.inputSide()\n",
    "a.displaySide()\n",
    "a.calculateArea()\n",
    "a.displayArea()\n",
    "        "
   ]
  },
  {
   "cell_type": "markdown",
   "metadata": {},
   "source": [
    "1.2)Write a function filter_long_words() that takes a list of words and an integer n and \n",
    "returns the list of words that are longer than n."
   ]
  },
  {
   "cell_type": "code",
   "execution_count": null,
   "metadata": {},
   "outputs": [],
   "source": [
    "# function defination that will returns the list of words which length greater the 'n'\n",
    "\n",
    "def filter_long_words(wordLength,words):\n",
    "    result= []\n",
    "    \n",
    "    for word in words:\n",
    "        if len(word) > wordLength:\n",
    "            result.append(word)\n",
    "    \n",
    "    return result\n",
    "   "
   ]
  },
  {
   "cell_type": "code",
   "execution_count": null,
   "metadata": {},
   "outputs": [],
   "source": [
    "t = 'Write a Python program using function concept'\n",
    "filter_long_words(5,t.split(' '))"
   ]
  },
  {
   "cell_type": "markdown",
   "metadata": {},
   "source": [
    "1.3) Write a Python program using function concept that maps  list of words into a list of integers representing the lengths of the corresponding words​. \n",
    " Hint: ​If a list [ ab,cde,erty] is passed on to the python function output should come as [2,3,4] \n",
    " Here 2,3 and 4 are the lengths of the words in the list. \n",
    " "
   ]
  },
  {
   "cell_type": "code",
   "execution_count": null,
   "metadata": {},
   "outputs": [],
   "source": [
    "#def function map value \n",
    "# way 1\n",
    "\n",
    "def mapValuesByDict(words):\n",
    "    result={}\n",
    "    \n",
    "    for word in words:\n",
    "        result[word] = len(word)\n",
    "    \n",
    "    return result\n",
    "\n",
    "\n",
    "#way 2\n",
    "\n",
    "def mapValuesList(words):\n",
    "    result = []\n",
    "    \n",
    "    for word in words:\n",
    "        result.append(len(word))\n",
    "    \n",
    "    return result\n"
   ]
  },
  {
   "cell_type": "code",
   "execution_count": null,
   "metadata": {},
   "outputs": [],
   "source": [
    "words = 'Write a Python program using function concept'.split(' ')\n",
    "\n",
    "# calling first  function\n",
    "print(\"words and mapped values : \",mapValuesByDict(words))\n",
    "\n",
    "# calling second function\n",
    "print(\"words : \",words,\"\\nmapped values : \",mapValuesList(words))"
   ]
  },
  {
   "cell_type": "markdown",
   "metadata": {},
   "source": [
    "1.4\n",
    " \n",
    "Write a Python function which takes a character (i.e. a string of length 1) and returns True if it is a vowel, False otherwise. "
   ]
  },
  {
   "cell_type": "code",
   "execution_count": null,
   "metadata": {},
   "outputs": [],
   "source": [
    "# def a function for character is vowel or not\n",
    "\n",
    "def isVowel(ch):\n",
    "    if ch[0] in ['a','i','o','e','u']:\n",
    "        return True\n",
    "    else:\n",
    "        return False"
   ]
  },
  {
   "cell_type": "code",
   "execution_count": null,
   "metadata": {},
   "outputs": [],
   "source": [
    "ch = input('enter character : ')\n",
    "\n",
    "# calling function\n",
    "isVowel(ch)"
   ]
  }
 ],
 "metadata": {
  "kernelspec": {
   "display_name": "Python 3",
   "language": "python",
   "name": "python3"
  },
  "language_info": {
   "codemirror_mode": {
    "name": "ipython",
    "version": 3
   },
   "file_extension": ".py",
   "mimetype": "text/x-python",
   "name": "python",
   "nbconvert_exporter": "python",
   "pygments_lexer": "ipython3",
   "version": "3.7.1"
  }
 },
 "nbformat": 4,
 "nbformat_minor": 2
}
