{
 "cells": [
  {
   "cell_type": "markdown",
   "metadata": {},
   "source": [
    "# python_assignment_no_3: "
   ]
  },
  {
   "cell_type": "markdown",
   "metadata": {},
   "source": [
    "1.1 Write a Python Program to implement your own myreduce() function which works exactly like Python's built-in function reduce() "
   ]
  },
  {
   "cell_type": "code",
   "execution_count": null,
   "metadata": {},
   "outputs": [],
   "source": [
    "data = [1,2,3,4,5,6,7,8,9]"
   ]
  },
  {
   "cell_type": "code",
   "execution_count": null,
   "metadata": {},
   "outputs": [],
   "source": [
    "#addition function\n",
    "def addition(x,y):\n",
    "    return x+y\n",
    "\n",
    "# subtraction function\n",
    "def subtraction(x,y):\n",
    "    return x+y\n",
    "\n",
    "# multiplication function\n",
    "def subtraction(x,y):\n",
    "    return x*y"
   ]
  },
  {
   "cell_type": "code",
   "execution_count": null,
   "metadata": {},
   "outputs": [],
   "source": [
    "#user defined reduce function\n",
    "\n",
    "def myreduce(fun,data):\n",
    "    result = data[0]\n",
    "    \n",
    "    for num in data[1:]:\n",
    "        result = fun(result,num)\n",
    "    return result\n",
    "    "
   ]
  },
  {
   "cell_type": "code",
   "execution_count": null,
   "metadata": {},
   "outputs": [],
   "source": [
    "#calling reduce function for addition\n",
    "print('sum of all numbers : ',end='')\n",
    "print(myreduce(addition,data))\n",
    "\n",
    "#calling reduce for subtraction\n",
    "print(\"subtraction :\",myreduce(subtraction,data))\n"
   ]
  },
  {
   "cell_type": "markdown",
   "metadata": {},
   "source": [
    "1.2) Write a Python program to implement your own mymap() function which works exactly like Python's built-in function map()"
   ]
  },
  {
   "cell_type": "code",
   "execution_count": null,
   "metadata": {},
   "outputs": [],
   "source": [
    "# square finction\n",
    "def sqr(x):\n",
    "    return x**2"
   ]
  },
  {
   "cell_type": "code",
   "execution_count": null,
   "metadata": {},
   "outputs": [],
   "source": [
    "#cube function\n",
    "def cube(x):\n",
    "    return x**3\n"
   ]
  },
  {
   "cell_type": "code",
   "execution_count": null,
   "metadata": {},
   "outputs": [],
   "source": [
    "def mymap(fun, data):\n",
    "    \n",
    "    result = []\n",
    "    \n",
    "    for x in data: \n",
    "        result.append(sqr(x))\n",
    "    \n",
    "    return result\n",
    "    \n",
    "    "
   ]
  },
  {
   "cell_type": "code",
   "execution_count": null,
   "metadata": {},
   "outputs": [],
   "source": [
    "print(\"squred values\")\n",
    "print(mymap(sqr,data))  # calling map function for squre\n",
    "\n",
    "print(\"cube values\")\n",
    "print(mymap(cube,data))"
   ]
  },
  {
   "cell_type": "markdown",
   "metadata": {},
   "source": [
    "\n",
    "1.3) Write a Python program to implement your own myfilter() function which works exactly like Python's built-in function filter()\n"
   ]
  },
  {
   "cell_type": "code",
   "execution_count": null,
   "metadata": {},
   "outputs": [],
   "source": [
    "# even numbers\n",
    "\n",
    "def even(x):\n",
    "    if x % 2 == 0 :\n",
    "        return True\n",
    "    \n"
   ]
  },
  {
   "cell_type": "code",
   "execution_count": null,
   "metadata": {},
   "outputs": [],
   "source": [
    "# prime numbers\n",
    "\n",
    "def prime(x):\n",
    "    result = True\n",
    "    for n in range(2,x):\n",
    "        if x % n == 0 :\n",
    "            result = False\n",
    "    \n",
    "    return result"
   ]
  },
  {
   "cell_type": "code",
   "execution_count": null,
   "metadata": {},
   "outputs": [],
   "source": [
    "# myfilter function\n",
    "\n",
    "def myfilter(func,data):\n",
    "    result = []\n",
    "    for num in data:\n",
    "        if func(num):\n",
    "            result.append(num)\n",
    "    \n",
    "    return result\n"
   ]
  },
  {
   "cell_type": "code",
   "execution_count": null,
   "metadata": {},
   "outputs": [],
   "source": [
    "# calling myfilter for even number\n",
    "print(\"Even Numbers : \",myfilter(even,data))\n",
    "\n",
    "# calling myfilter for prime numbers\n",
    "print(\"Prime Numbers : \",myfilter(prime,data))"
   ]
  },
  {
   "cell_type": "markdown",
   "metadata": {},
   "source": [
    "# Task 2\n",
    "\n",
    "Implement List comprehensions to produce the following lists. \n",
    "Write List comprehensions to produce the following Lists "
   ]
  },
  {
   "cell_type": "code",
   "execution_count": null,
   "metadata": {},
   "outputs": [],
   "source": [
    "# i)['x', 'xx', 'xxx', 'xxxx', 'y', 'yy', 'yyy', 'yyyy', 'z', 'zz', 'zzz', 'zzzz'] \n",
    "\n",
    "l = ['x','y','z']\n",
    "result= []\n",
    "for k in  l:\n",
    "    for i in range(4):\n",
    "        t=''\n",
    "        for j in range(0,i+1):\n",
    "            t+=k\n",
    "        result.append(t)\n",
    "        \n",
    "result"
   ]
  },
  {
   "cell_type": "code",
   "execution_count": null,
   "metadata": {},
   "outputs": [],
   "source": [
    "#  ii) ['x', 'y', 'z', 'xx', 'yy', 'zz', 'xx', 'yy', 'zz', 'xxxx', 'yyyy', 'zzzz'] \n",
    "\n",
    "result=[]\n",
    "\n",
    "for i in range(4):\n",
    "    for ch in l:\n",
    "        t=''\n",
    "        for j in range(i+1):\n",
    "            t+=ch\n",
    "        result.append(t)\n",
    "\n",
    "result"
   ]
  },
  {
   "cell_type": "code",
   "execution_count": null,
   "metadata": {},
   "outputs": [],
   "source": [
    "# iii) [[2], [3], [4], [3], [4], [5], [4], [5], [6]] \n",
    "\n",
    "result=[]\n",
    "for i in range(2,5):\n",
    "    t = i;\n",
    "    for j in range(3):\n",
    "        t1 = [t]\n",
    "        t+=1\n",
    "        result.append(t1)\n",
    "        \n",
    "result"
   ]
  },
  {
   "cell_type": "code",
   "execution_count": null,
   "metadata": {},
   "outputs": [],
   "source": [
    "# iv) [[2, 3, 4, 5], [3, 4, 5, 6], [4, 5, 6, 7], [5, 6, 7, 8]] \n",
    "\n",
    "result=[]\n",
    "for i in range(2,5):\n",
    "    t = i;\n",
    "    t1 = []\n",
    "    for j in range(3):\n",
    "        t1.append(t)\n",
    "        t+=1\n",
    "    result.append(t1)\n",
    "        \n",
    "result\n"
   ]
  },
  {
   "cell_type": "code",
   "execution_count": null,
   "metadata": {},
   "outputs": [],
   "source": [
    "# v) [(1, 1), (2, 1), (3, 1), (1, 2), (2, 2), (3, 2), (1, 3), (2, 3), (3, 3)]\n",
    "\n",
    "result= [] \n",
    "for i in range(1,4):\n",
    "    for j in range(1,4):\n",
    "        t = (j,i)\n",
    "        result.append(t)\n",
    "result"
   ]
  }
 ],
 "metadata": {
  "kernelspec": {
   "display_name": "Python 3",
   "language": "python",
   "name": "python3"
  },
  "language_info": {
   "codemirror_mode": {
    "name": "ipython",
    "version": 3
   },
   "file_extension": ".py",
   "mimetype": "text/x-python",
   "name": "python",
   "nbconvert_exporter": "python",
   "pygments_lexer": "ipython3",
   "version": "3.7.1"
  }
 },
 "nbformat": 4,
 "nbformat_minor": 2
}
