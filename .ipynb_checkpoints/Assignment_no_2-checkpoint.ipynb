{
 "cells": [
  {
   "cell_type": "markdown",
   "metadata": {},
   "source": [
    "# Task 1: "
   ]
  },
  {
   "cell_type": "markdown",
   "metadata": {},
   "source": [
    "1.1 Write a Python Program to implement your own myreduce() function which works exactly like Python's built-in function reduce() "
   ]
  },
  {
   "cell_type": "code",
   "execution_count": null,
   "metadata": {},
   "outputs": [],
   "source": [
    "data = [1,2,3,4,5,6,7,8,9]"
   ]
  },
  {
   "cell_type": "code",
   "execution_count": null,
   "metadata": {},
   "outputs": [],
   "source": [
    "#addition function\n",
    "def addition(x,y):\n",
    "    return x+y\n",
    "\n",
    "# subtraction function\n",
    "def subtraction(x,y):\n",
    "    return x+y\n",
    "\n",
    "# multiplication function\n",
    "def subtraction(x,y):\n",
    "    return x*y"
   ]
  },
  {
   "cell_type": "code",
   "execution_count": null,
   "metadata": {},
   "outputs": [],
   "source": [
    "#user defined reduce function\n",
    "\n",
    "def myreduce(fun,data):\n",
    "    result = data[0]\n",
    "    \n",
    "    for num in data[1:]:\n",
    "        result = fun(result,num)\n",
    "    return result\n",
    "    "
   ]
  },
  {
   "cell_type": "code",
   "execution_count": null,
   "metadata": {},
   "outputs": [],
   "source": [
    "#calling reduce function for addition\n",
    "print('sum of all numbers : ',end='')\n",
    "print(myreduce(addition,data))\n",
    "\n",
    "#calling reduce for subtraction\n",
    "print(\"subtraction :\",myreduce(subtraction,data))\n"
   ]
  },
  {
   "cell_type": "markdown",
   "metadata": {},
   "source": [
    "1.2) Write a Python program to implement your own mymap() function which works exactly like Python's built-in function map()"
   ]
  },
  {
   "cell_type": "code",
   "execution_count": null,
   "metadata": {},
   "outputs": [],
   "source": [
    "# square finction\n",
    "def sqr(x):\n",
    "    return x**2"
   ]
  },
  {
   "cell_type": "code",
   "execution_count": null,
   "metadata": {},
   "outputs": [],
   "source": [
    "#cube function\n",
    "def cube(x):\n",
    "    return x**3\n"
   ]
  },
  {
   "cell_type": "code",
   "execution_count": null,
   "metadata": {},
   "outputs": [],
   "source": [
    "def mymap(fun, data):\n",
    "    \n",
    "    result = []\n",
    "    \n",
    "    for x in data: \n",
    "        result.append(sqr(x))\n",
    "    \n",
    "    return result\n",
    "    \n",
    "    "
   ]
  },
  {
   "cell_type": "code",
   "execution_count": null,
   "metadata": {},
   "outputs": [],
   "source": [
    "print(\"squred values\")\n",
    "print(mymap(sqr,data))  # calling map function for squre\n",
    "\n",
    "print(\"cube values\")\n",
    "print(mymap(cube,data))"
   ]
  },
  {
   "cell_type": "markdown",
   "metadata": {},
   "source": [
    "\n",
    "1.3) Write a Python program to implement your own myfilter() function which works exactly like Python's built-in function filter()\n"
   ]
  },
  {
   "cell_type": "code",
   "execution_count": null,
   "metadata": {},
   "outputs": [],
   "source": [
    "# even numbers\n",
    "\n",
    "def even(x):\n",
    "    if x % 2 == 0 :\n",
    "        return True\n",
    "    \n"
   ]
  },
  {
   "cell_type": "code",
   "execution_count": null,
   "metadata": {},
   "outputs": [],
   "source": [
    "# prime numbers\n",
    "\n",
    "def prime(x):\n",
    "    result = True\n",
    "    for n in range(2,x):\n",
    "        if x % n == 0 :\n",
    "            result = False\n",
    "    \n",
    "    return result"
   ]
  },
  {
   "cell_type": "code",
   "execution_count": null,
   "metadata": {},
   "outputs": [],
   "source": [
    "# myfilter function\n",
    "\n",
    "def myfilter(func,data):\n",
    "    result = []\n",
    "    for num in data:\n",
    "        if func(num):\n",
    "            result.append(num)\n",
    "    \n",
    "    return result\n"
   ]
  },
  {
   "cell_type": "code",
   "execution_count": null,
   "metadata": {},
   "outputs": [],
   "source": [
    "# calling myfilter for even number\n",
    "print(\"Even Numbers : \",myfilter(even,data))\n",
    "\n",
    "# calling myfilter for prime numbers\n",
    "print(\"Prime Numbers : \",myfilter(prime,data))"
   ]
  },
  {
   "cell_type": "markdown",
   "metadata": {},
   "source": [
    "# Task 2\n",
    "\n",
    "Implement List comprehensions to produce the following lists. \n",
    "Write List comprehensions to produce the following Lists "
   ]
  },
  {
   "cell_type": "code",
   "execution_count": null,
   "metadata": {},
   "outputs": [],
   "source": [
    "# i)['x', 'xx', 'xxx', 'xxxx', 'y', 'yy', 'yyy', 'yyyy', 'z', 'zz', 'zzz', 'zzzz'] \n",
    "\n",
    "l = ['x','y','z']\n",
    "result= []\n",
    "for k in  l:\n",
    "    for i in range(4):\n",
    "        t=''\n",
    "        for j in range(0,i+1):\n",
    "            t+=k\n",
    "        result.append(t)\n",
    "        \n",
    "result"
   ]
  },
  {
   "cell_type": "code",
   "execution_count": null,
   "metadata": {},
   "outputs": [],
   "source": [
    "#  ii) ['x', 'y', 'z', 'xx', 'yy', 'zz', 'xx', 'yy', 'zz', 'xxxx', 'yyyy', 'zzzz'] \n",
    "\n",
    "result=[]\n",
    "\n",
    "for i in range(4):\n",
    "    for ch in l:\n",
    "        t=''\n",
    "        for j in range(i+1):\n",
    "            t+=ch\n",
    "        result.append(t)\n",
    "\n",
    "result"
   ]
  },
  {
   "cell_type": "code",
   "execution_count": null,
   "metadata": {},
   "outputs": [],
   "source": [
    "# iii) [[2], [3], [4], [3], [4], [5], [4], [5], [6]] \n",
    "\n",
    "result=[]\n",
    "for i in range(2,5):\n",
    "    t = i;\n",
    "    for j in range(3):\n",
    "        t1 = [t]\n",
    "        t+=1\n",
    "        result.append(t1)\n",
    "        \n",
    "result"
   ]
  },
  {
   "cell_type": "code",
   "execution_count": null,
   "metadata": {},
   "outputs": [],
   "source": [
    "# iv) [[2, 3, 4, 5], [3, 4, 5, 6], [4, 5, 6, 7], [5, 6, 7, 8]] \n",
    "\n",
    "result=[]\n",
    "for i in range(2,5):\n",
    "    t = i;\n",
    "    t1 = []\n",
    "    for j in range(3):\n",
    "        t1.append(t)\n",
    "        t+=1\n",
    "    result.append(t1)\n",
    "        \n",
    "result\n"
   ]
  },
  {
   "cell_type": "code",
   "execution_count": null,
   "metadata": {},
   "outputs": [],
   "source": [
    "# v) [(1, 1), (2, 1), (3, 1), (1, 2), (2, 2), (3, 2), (1, 3), (2, 3), (3, 3)]\n",
    "\n",
    "result= [] \n",
    "for i in range(1,4):\n",
    "    for j in range(1,4):\n",
    "        t = (j,i)\n",
    "        result.append(t)\n",
    "result"
   ]
  },
  {
   "cell_type": "code",
   "execution_count": null,
   "metadata": {},
   "outputs": [],
   "source": [
    "#3) Implement a function longestWord() that takes a list of words and returns the longest one. \n",
    " \n",
    "\n",
    "def longestWord(data):\n",
    "    maxlen = len(data[0])\n",
    "    result = data[0]\n",
    "    \n",
    "    for word in data[1:]:\n",
    "        if len(word) > maxlen:\n",
    "            maxlen = len(word)\n",
    "            result = word\n",
    "            \n",
    "    return result"
   ]
  },
  {
   "cell_type": "code",
   "execution_count": null,
   "metadata": {},
   "outputs": [],
   "source": [
    "# calling logestWord function\n",
    "\n",
    "data = input('enter list of word')\n",
    "\n",
    "words = data.split(' ')\n",
    "longWord = longestWord(words)\n",
    "print(\"longest word : \",longWord,\" length : \",len(longWord))\n"
   ]
  },
  {
   "cell_type": "markdown",
   "metadata": {},
   "source": [
    "# Task 3: \n",
    " "
   ]
  },
  {
   "cell_type": "markdown",
   "metadata": {},
   "source": [
    "3.1  \n",
    " \n",
    "Write a Python Program(with class concepts) to find the area of the triangle using the below formula. \n",
    " \n",
    "area = (s*(s-a)*(s-b)*(s-c)) ** 0.5 \n",
    "\n",
    "Function to take the length of the sides of triangle from user should be defined in the parent class and function\n",
    "to calculate the area should be defined in subclass. "
   ]
  },
  {
   "cell_type": "code",
   "execution_count": null,
   "metadata": {},
   "outputs": [],
   "source": [
    "#class def of circle parent\n",
    "\n",
    "class CircleParent:\n",
    "    def inputSide(self):\n",
    "        self.a = float(input('Enter first side of triangle'))\n",
    "        self.b = float(input('Enter second side of triangle'))\n",
    "        self.c = float(input('Enter third side of triangle'))\n",
    "        \n",
    "    def displaySide(self):\n",
    "        print(\"First Side of Triangle : \",self.a)\n",
    "        print(\"Second Side of Triangle : \",self.b)\n",
    "        print(\"Third Side of Triangle : \",self.c)\n",
    "\n",
    "\n",
    "# class def of circle area\n",
    "\n",
    "class CircleArea(CircleParent):\n",
    "        def calculateArea(self):\n",
    "            s= (self.a + self.b + self.c)/2\n",
    "            self.area = (s*(s-self.a)*(s-self.b)*(s-self.c)) ** 0.5 \n",
    "        \n",
    "        def displayArea(self):\n",
    "            print(\"Area of circle : \",self.area)\n",
    "\n",
    "#creation of derived class object\n",
    "          \n",
    "a = CircleArea()\n",
    "\n",
    "# calling the functions\n",
    "\n",
    "a.inputSide()\n",
    "a.displaySide()\n",
    "a.calculateArea()\n",
    "a.displayArea()\n",
    "        \n",
    "        "
   ]
  },
  {
   "cell_type": "markdown",
   "metadata": {},
   "source": [
    "3.2 \n",
    "Write a function filter_long_words() that takes a list of words and an integer n and \n",
    "returns the list of words that are longer than n."
   ]
  },
  {
   "cell_type": "code",
   "execution_count": null,
   "metadata": {},
   "outputs": [],
   "source": [
    "# function defination that will returns the list of words which length greater the 'n'\n",
    "\n",
    "def filter_long_words(wordLength,words):\n",
    "    result= []\n",
    "    \n",
    "    for word in words:\n",
    "        if len(word) > wordLength:\n",
    "            result.append(word)\n",
    "    \n",
    "    return result\n",
    "   "
   ]
  },
  {
   "cell_type": "code",
   "execution_count": null,
   "metadata": {},
   "outputs": [],
   "source": [
    "t = 'Write a Python program using function concept'\n",
    "filter_long_words(5,t.split(' '))"
   ]
  },
  {
   "cell_type": "markdown",
   "metadata": {},
   "source": [
    "3.3\n",
    " \n",
    "Write a Python program using function concept that maps  list of words into a list of integers representing the lengths of the corresponding words​. \n",
    " Hint: ​If a list [ ab,cde,erty] is passed on to the python function output should come as [2,3,4] \n",
    " Here 2,3 and 4 are the lengths of the words in the list. \n",
    " "
   ]
  },
  {
   "cell_type": "code",
   "execution_count": null,
   "metadata": {},
   "outputs": [],
   "source": [
    "#def function map value \n",
    "# way 1\n",
    "\n",
    "def mapValuesByDict(words):\n",
    "    result={}\n",
    "    \n",
    "    for word in words:\n",
    "        result[word] = len(word)\n",
    "    \n",
    "    return result\n",
    "\n",
    "\n",
    "#way 2\n",
    "\n",
    "def mapValuesList(words):\n",
    "    result = []\n",
    "    \n",
    "    for word in words:\n",
    "        result.append(len(word))\n",
    "    \n",
    "    return result\n"
   ]
  },
  {
   "cell_type": "code",
   "execution_count": null,
   "metadata": {},
   "outputs": [],
   "source": [
    "words = 'Write a Python program using function concept'.split(' ')\n",
    "\n",
    "# calling first  function\n",
    "print(\"words and mapped values : \",mapValuesByDict(words))\n",
    "\n",
    "# calling second function\n",
    "print(\"words : \",words,\"\\nmapped values : \",mapValuesList(words))"
   ]
  },
  {
   "cell_type": "markdown",
   "metadata": {},
   "source": [
    "3.4\n",
    " \n",
    "Write a Python function which takes a character (i.e. a string of length 1) and returns True if it is a vowel, False otherwise. "
   ]
  },
  {
   "cell_type": "code",
   "execution_count": null,
   "metadata": {},
   "outputs": [],
   "source": [
    "# def a function for character is vowel or not\n",
    "\n",
    "def isVowel(ch):\n",
    "    if ch[0] in ['a','i','o','e','u']:\n",
    "        return True\n",
    "    else:\n",
    "        return False"
   ]
  },
  {
   "cell_type": "code",
   "execution_count": null,
   "metadata": {},
   "outputs": [],
   "source": [
    "ch = input('enter character : ')\n",
    "\n",
    "# calling function\n",
    "isVowel(ch)"
   ]
  }
 ],
 "metadata": {
  "kernelspec": {
   "display_name": "Python 3",
   "language": "python",
   "name": "python3"
  },
  "language_info": {
   "codemirror_mode": {
    "name": "ipython",
    "version": 3
   },
   "file_extension": ".py",
   "mimetype": "text/x-python",
   "name": "python",
   "nbconvert_exporter": "python",
   "pygments_lexer": "ipython3",
   "version": "3.7.1"
  }
 },
 "nbformat": 4,
 "nbformat_minor": 2
}
